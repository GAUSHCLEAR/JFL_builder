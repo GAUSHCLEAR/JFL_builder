{
 "cells": [
  {
   "cell_type": "code",
   "execution_count": 1,
   "metadata": {},
   "outputs": [],
   "source": [
    "import pandas as pd\n",
    "import numpy as np\n",
    "import matplotlib.pyplot as plt\n",
    "from parse_jfl import * "
   ]
  },
  {
   "cell_type": "code",
   "execution_count": 2,
   "metadata": {},
   "outputs": [],
   "source": [
    "lens_design = {\n",
    "    'Thickness': 0.2,\n",
    "    'SemiDiameter': 5.61,\n",
    "}"
   ]
  },
  {
   "cell_type": "code",
   "execution_count": 3,
   "metadata": {},
   "outputs": [],
   "source": [
    "front_surface_design = [\n",
    "    {\n",
    "        'Type': \"Standard\",\n",
    "        'Radius': 849.15,\n",
    "        'Conic': 0.0,\n",
    "        'SemiDiameter': 1.844,\n",
    "    },\n",
    "    {\n",
    "        'Type': \"Fillet\",\n",
    "        'Radius': 0.80,\n",
    "        'Conic': 0.0,\n",
    "        'SemiDiameter': 2.282,\n",
    "        'Center': 1.844,\n",
    "    },\n",
    "    {\n",
    "        'Type': \"Line\",\n",
    "        'SemiDiameter': 4.060,\n",
    "        'EndZ': 1.305,\n",
    "    },\n",
    "    {\n",
    "        'Type': \"Fillet\",\n",
    "        'Radius': -0.80,\n",
    "        'Conic': 0.0,\n",
    "        'SemiDiameter': 4.50,\n",
    "        'Center': 4.50\n",
    "    },\n",
    "    {\n",
    "        'Type': \"Line\",\n",
    "        'SemiDiameter': 5.61,\n",
    "        'EndZ': 1.437,\n",
    "    }\n",
    "]"
   ]
  },
  {
   "cell_type": "code",
   "execution_count": 4,
   "metadata": {},
   "outputs": [],
   "source": [
    "back_surface_design = [\n",
    "    {\n",
    "        'Type': 'EvenAsphere',\n",
    "        'Radius': 5.286,\n",
    "        'Conic': 0.684,\n",
    "        'SemiDiameter': 2.088,\n",
    "        'AsphereTerm': 3,\n",
    "        'AsphereParams': [3.85479E-07,-1.12063E-06,-6.277E-07],\n",
    "    },\n",
    "    {\n",
    "        \"Type\": \"Line\",\n",
    "        \"SemiDiameter\": 4.101,\n",
    "        \"EndZ\": 1.363+lens_design['Thickness'],\n",
    "    },\n",
    "    {\n",
    "        'Type': \"Fillet\",\n",
    "        'Radius': -0.80,\n",
    "        'Conic': 0.0,\n",
    "        'SemiDiameter': 4.436,\n",
    "        'Center': 4.436,\n",
    "    },\n",
    "    {\n",
    "        \"Type\": \"Line\",\n",
    "        \"SemiDiameter\": 5.610,\n",
    "        \"EndZ\": 1.437+lens_design['Thickness'],\n",
    "    },\n",
    "]\n"
   ]
  },
  {
   "cell_type": "code",
   "execution_count": 5,
   "metadata": {},
   "outputs": [],
   "source": [
    "def standard(r, params, z0):\n",
    "    r_min = r.min()\n",
    "    c = 1/params['Radius']\n",
    "    k = params['Conic']\n",
    "    def core(r):\n",
    "        return c*r**2/(1+np.sqrt(1-(1+k)*c**2*r**2))\n",
    "    z = core(r)\n",
    "    z_min = core(r_min)\n",
    "    return z - z_min + z0"
   ]
  },
  {
   "cell_type": "code",
   "execution_count": 6,
   "metadata": {},
   "outputs": [],
   "source": [
    "def fillet(r, params, z0):\n",
    "    r_min = r.min()\n",
    "    r_max = r.max()\n",
    "    c = 1/params['Radius']\n",
    "    k = params['Conic']\n",
    "    r0 = params['Center']\n",
    "    def core(r):\n",
    "        return c*(r-r0)**2/(1+np.sqrt(1-(1+k)*c**2*(r-r0)**2))\n",
    "    z = core(r)\n",
    "    z_min = core(r_min)\n",
    "    return z - z_min + z0"
   ]
  },
  {
   "cell_type": "code",
   "execution_count": 7,
   "metadata": {},
   "outputs": [],
   "source": [
    "def even_asphere(r,params,z0): \n",
    "    c = 1/params['Radius'] \n",
    "    k = params['Conic'] \n",
    "    def core(r):\n",
    "        z = c*r**2/(1+np.sqrt(1-(1+k)*c**2*r**2)) \n",
    "        asphere = 0 \n",
    "        for i in range(params['AsphereTerm']): \n",
    "            asphere += params['AsphereParams'][i]*r**(2*(i+1)) \n",
    "        return z + asphere\n",
    "    z = core(r)\n",
    "    z_min = core(r.min())\n",
    "    return z -z_min + z0"
   ]
  },
  {
   "cell_type": "code",
   "execution_count": 8,
   "metadata": {},
   "outputs": [],
   "source": [
    "def line(r, params, z0):\n",
    "    delta_z = params['EndZ'] - z0\n",
    "    start_r = r.min()\n",
    "    delta_r = params['SemiDiameter'] - start_r\n",
    "    z = delta_z * (r - start_r) / delta_r\n",
    "    return z + z0"
   ]
  },
  {
   "cell_type": "code",
   "execution_count": 9,
   "metadata": {},
   "outputs": [
    {
     "data": {
      "image/png": "[encoded data removed]",
      "text/plain": [
       "<Figure size 640x480 with 1 Axes>"
      ]
     },
     "metadata": {},
     "output_type": "display_data"
    }
   ],
   "source": [
    "step = 0.0025\n",
    "surface_sag = [{},{}]\n",
    "for i, surface_design in enumerate([front_surface_design, back_surface_design]):\n",
    "    r = np.arange(0, lens_design['SemiDiameter'], step)\n",
    "    z = np.zeros_like(r)\n",
    "\n",
    "    z0 = 0 if surface_design==front_surface_design else lens_design['Thickness']\n",
    "    z[0] = z0   \n",
    "    r0 = 0\n",
    "    for surface in surface_design:\n",
    "        ROI_index = (r > r0) & (r <= surface['SemiDiameter'])\n",
    "        r_ROI = r[ROI_index]\n",
    "        try:\n",
    "            if surface['Type'] == 'Standard':\n",
    "                z_ROI = standard(r_ROI, surface, z0)  \n",
    "            elif surface['Type'] == 'EvenAsphere':\n",
    "                z_ROI = even_asphere(r_ROI, surface, z0)\n",
    "            elif surface['Type'] == 'Line':\n",
    "                z_ROI = line(r_ROI, surface, z0)\n",
    "            elif surface['Type'] == 'Fillet':\n",
    "                z_ROI = fillet(r_ROI, surface, z0)\n",
    "            z[ROI_index] = z_ROI\n",
    "\n",
    "            z0 = z_ROI[-1]\n",
    "        except :\n",
    "            print('Error')\n",
    "            break\n",
    "        r0 = surface['SemiDiameter']\n",
    "    surface_sag[i]['r'] = r\n",
    "    surface_sag[i]['z'] = z\n",
    "    plt.plot(r, z)\n",
    "plt.axis('equal')\n",
    "# 反转坐标轴\n",
    "plt.gca().invert_yaxis()\n",
    "plt.show()\n"
   ]
  },
  {
   "cell_type": "code",
   "execution_count": null,
   "metadata": {},
   "outputs": [],
   "source": []
  }
 ],
 "metadata": {
  "kernelspec": {
   "display_name": "z",
   "language": "python",
   "name": "python3"
  },
  "language_info": {
   "codemirror_mode": {
    "name": "ipython",
    "version": 3
   },
   "file_extension": ".py",
   "mimetype": "text/x-python",
   "name": "python",
   "nbconvert_exporter": "python",
   "pygments_lexer": "ipython3",
   "version": "3.10.14"
  }
 },
 "nbformat": 4,
 "nbformat_minor": 2
}
